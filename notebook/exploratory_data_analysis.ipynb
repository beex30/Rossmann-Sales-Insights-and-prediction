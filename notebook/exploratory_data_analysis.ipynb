{
 "cells": [
  {
   "metadata": {},
   "cell_type": "code",
   "outputs": [],
   "execution_count": null,
   "source": [
    "# Import necessary modules\n",
    "import sys\n",
    "sys.path.append('../src')\n",
    "\n",
    "from src.data_processing import load_data, clean_data, handle_missing_data, detect_outliers, save_cleaned_data\n",
    "from src.feature_engineering import extract_date_features\n",
    "from src.data_visualization import plot_sales_distribution, check_outlier_plot, plot_sales_behavior, plot_sales_vs_customers, plot_correlation_heatmap, plot_promo_effect, plot_assortment_effect\n",
    "from src.logger import setup_logging"
   ],
   "id": "f542139971689b48"
  },
  {
   "metadata": {},
   "cell_type": "code",
   "outputs": [],
   "execution_count": null,
   "source": [
    "# Set up logging\n",
    "setup_logging()"
   ],
   "id": "2135b4635f24ae51"
  },
  {
   "metadata": {},
   "cell_type": "code",
   "outputs": [],
   "execution_count": null,
   "source": [
    "# Load and clean data\n",
    "df = load_data('../data/train.csv')"
   ],
   "id": "1304313854ff84f3"
  },
  {
   "metadata": {},
   "cell_type": "code",
   "outputs": [],
   "execution_count": null,
   "source": [
    "# Check for missing values\n",
    "df.isnull().sum()"
   ],
   "id": "f73990a1ae3c078"
  },
  {
   "metadata": {},
   "cell_type": "code",
   "outputs": [],
   "execution_count": null,
   "source": [
    "# Handle missing data\n",
    "df = handle_missing_data(df)"
   ],
   "id": "bd6708759273a1b"
  },
  {
   "metadata": {},
   "cell_type": "code",
   "outputs": [],
   "execution_count": null,
   "source": "df_clean = clean_data(df)",
   "id": "48399ce66888813f"
  },
  {
   "metadata": {},
   "cell_type": "code",
   "outputs": [],
   "execution_count": null,
   "source": [
    "# Display the first few rows of the cleaned dataset\n",
    "df_clean.head()"
   ],
   "id": "2432ff8086876237"
  },
  {
   "metadata": {},
   "cell_type": "code",
   "outputs": [],
   "execution_count": null,
   "source": [
    "# Display summary statistics\n",
    "df_clean.describe()"
   ],
   "id": "318a229d6b9011c6"
  },
  {
   "metadata": {},
   "cell_type": "code",
   "outputs": [],
   "execution_count": null,
   "source": [
    "# Display data types\n",
    "df_clean.dtypes"
   ],
   "id": "9b1ada57d2dbd1d9"
  },
  {
   "metadata": {},
   "cell_type": "code",
   "outputs": [],
   "execution_count": null,
   "source": [
    "# Check for duplicates\n",
    "df_clean.duplicated().sum()"
   ],
   "id": "1a470547cb857770"
  },
  {
   "metadata": {},
   "cell_type": "code",
   "outputs": [],
   "execution_count": null,
   "source": [
    "# Check for outliers\n",
    "check_outlier_plot(df_clean)"
   ],
   "id": "a499f7b1b2709756"
  },
  {
   "metadata": {},
   "cell_type": "code",
   "outputs": [],
   "execution_count": null,
   "source": [
    "# Detect and remove outliers\n",
    "df_clean = detect_outliers(df_clean, 'Sales')"
   ],
   "id": "ab35a20c43f9243f"
  },
  {
   "metadata": {},
   "cell_type": "code",
   "outputs": [],
   "execution_count": null,
   "source": [
    "# Feature engineering\n",
    "df_features = extract_date_features(df_clean)"
   ],
   "id": "ae7b20742e6ea92f"
  },
  {
   "metadata": {},
   "cell_type": "code",
   "outputs": [],
   "execution_count": null,
   "source": [
    "# Visualization\n",
    "plot_sales_distribution(df_features)"
   ],
   "id": "2e2efa07e513839b"
  },
  {
   "metadata": {},
   "cell_type": "code",
   "outputs": [],
   "execution_count": null,
   "source": [
    "# Plot sales behavior around holidays\n",
    "plot_sales_behavior(df_features, 'Date', 'Sales', holidays=['2015-07-01', '2015-09-01'])"
   ],
   "id": "bf9dd54bff4beffc"
  },
  {
   "metadata": {},
   "cell_type": "code",
   "outputs": [],
   "execution_count": null,
   "source": [
    "# Plot the relationship between sales and number of customers\n",
    "plot_sales_vs_customers(df_features, 'Sales', 'Customers')"
   ],
   "id": "1424b0d66582f6c6"
  },
  {
   "metadata": {},
   "cell_type": "code",
   "outputs": [],
   "execution_count": null,
   "source": [
    "# Plot correlation heatmap\n",
    "plot_correlation_heatmap(df_features)"
   ],
   "id": "5f73398e6fc0091e"
  },
  {
   "metadata": {},
   "cell_type": "code",
   "outputs": [],
   "execution_count": null,
   "source": [
    "# Plot the effect of promotions on sales\n",
    "plot_promo_effect(df_features, 'Promo', 'Sales')"
   ],
   "id": "bd8c75e71197c5e5"
  },
  {
   "metadata": {},
   "cell_type": "code",
   "outputs": [],
   "execution_count": null,
   "source": [
    "# Plot the effect of assortment type on sales\n",
    "plot_assortment_effect(df_features, 'Assortment', 'Sales')"
   ],
   "id": "ad4fee33ac566e7f"
  },
  {
   "metadata": {},
   "cell_type": "code",
   "outputs": [],
   "execution_count": null,
   "source": [
    "# Save cleaned data\n",
    "save_cleaned_data(df_features, '../data/processed/cleaned_data.csv')"
   ],
   "id": "dbdc6c6d2af990ee"
  }
 ],
 "metadata": {},
 "nbformat": 5,
 "nbformat_minor": 9
}
